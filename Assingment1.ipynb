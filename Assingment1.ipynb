{
  "nbformat": 4,
  "nbformat_minor": 0,
  "metadata": {
    "colab": {
      "name": "Assingment1.ipynb",
      "provenance": [],
      "authorship_tag": "ABX9TyM6EcXf6aVgX6xAM9oGs2zr",
      "include_colab_link": true
    },
    "kernelspec": {
      "name": "python3",
      "display_name": "Python 3"
    }
  },
  "cells": [
    {
      "cell_type": "markdown",
      "metadata": {
        "id": "view-in-github",
        "colab_type": "text"
      },
      "source": [
        "<a href=\"https://colab.research.google.com/github/Sreenandh/Python-assingments/blob/main/Assingment1.ipynb\" target=\"_parent\"><img src=\"https://colab.research.google.com/assets/colab-badge.svg\" alt=\"Open In Colab\"/></a>"
      ]
    },
    {
      "cell_type": "code",
      "metadata": {
        "colab": {
          "base_uri": "https://localhost:8080/"
        },
        "id": "k3NNZMy_oabz",
        "outputId": "81cc7f1b-bb00-4bb0-e1c3-5d56fa16bc99"
      },
      "source": [
        "print(\"Hello World\")"
      ],
      "execution_count": null,
      "outputs": [
        {
          "output_type": "stream",
          "text": [
            "Hello World\n"
          ],
          "name": "stdout"
        }
      ]
    },
    {
      "cell_type": "code",
      "metadata": {
        "colab": {
          "base_uri": "https://localhost:8080/"
        },
        "id": "R8PDb0pAMnfX",
        "outputId": "71fe1997-fbc3-46c2-fdc3-c7444b0af4c5"
      },
      "source": [
        "3+5"
      ],
      "execution_count": null,
      "outputs": [
        {
          "output_type": "execute_result",
          "data": {
            "text/plain": [
              "8"
            ]
          },
          "metadata": {
            "tags": []
          },
          "execution_count": 5
        }
      ]
    },
    {
      "cell_type": "code",
      "metadata": {
        "colab": {
          "base_uri": "https://localhost:8080/"
        },
        "id": "QUJ_YRIsMzrB",
        "outputId": "75af29b6-d14b-45d1-858d-af875e7d2d9e"
      },
      "source": [
        "3-5"
      ],
      "execution_count": null,
      "outputs": [
        {
          "output_type": "execute_result",
          "data": {
            "text/plain": [
              "-2"
            ]
          },
          "metadata": {
            "tags": []
          },
          "execution_count": 6
        }
      ]
    },
    {
      "cell_type": "code",
      "metadata": {
        "colab": {
          "base_uri": "https://localhost:8080/"
        },
        "id": "ufl66xJxM1KC",
        "outputId": "41e902ca-6b07-4762-ef9e-9f35bab05843"
      },
      "source": [
        "5*9"
      ],
      "execution_count": null,
      "outputs": [
        {
          "output_type": "execute_result",
          "data": {
            "text/plain": [
              "45"
            ]
          },
          "metadata": {
            "tags": []
          },
          "execution_count": 7
        }
      ]
    },
    {
      "cell_type": "code",
      "metadata": {
        "colab": {
          "base_uri": "https://localhost:8080/"
        },
        "id": "SfUoZY7lNDWj",
        "outputId": "a631ba90-a3c6-4ab5-c592-c3f0c9ff1a9d"
      },
      "source": [
        "5/5"
      ],
      "execution_count": null,
      "outputs": [
        {
          "output_type": "execute_result",
          "data": {
            "text/plain": [
              "1.0"
            ]
          },
          "metadata": {
            "tags": []
          },
          "execution_count": 8
        }
      ]
    },
    {
      "cell_type": "code",
      "metadata": {
        "colab": {
          "base_uri": "https://localhost:8080/"
        },
        "id": "jb2EYtIcNF09",
        "outputId": "db5254ca-6143-4087-f4e8-aab28bf965e3"
      },
      "source": [
        "print(int(input(\"enter number\"))*7)\n",
        "print(int(input(\"enter number\"))+7)\n",
        "print(int(input(\"enter number\"))-3)\n",
        "print(int(input(\"enter number\"))/6)"
      ],
      "execution_count": null,
      "outputs": [
        {
          "output_type": "stream",
          "text": [
            "enter number5\n",
            "35\n",
            "enter number5\n",
            "12\n",
            "enter number5\n",
            "2\n",
            "enter number6\n",
            "1.0\n"
          ],
          "name": "stdout"
        }
      ]
    },
    {
      "cell_type": "code",
      "metadata": {
        "colab": {
          "base_uri": "https://localhost:8080/"
        },
        "id": "4C3Mj5kTOheW",
        "outputId": "c26f48e3-4b44-438a-950b-1f99a0da6b9d"
      },
      "source": [
        "a=100\n",
        "b=755\n",
        "c=a+b\n",
        "print(c)\n",
        "c=a-b\n",
        "print(c)\n",
        "c=a*b\n",
        "print(c)\n",
        "c=a/b\n",
        "print(c)"
      ],
      "execution_count": null,
      "outputs": [
        {
          "output_type": "stream",
          "text": [
            "855\n",
            "-655\n",
            "75500\n",
            "0.13245033112582782\n"
          ],
          "name": "stdout"
        }
      ]
    },
    {
      "cell_type": "code",
      "metadata": {
        "id": "Hk3KyJaHPhlS"
      },
      "source": [
        ""
      ],
      "execution_count": null,
      "outputs": []
    }
  ]
}