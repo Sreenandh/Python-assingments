{
  "nbformat": 4,
  "nbformat_minor": 0,
  "metadata": {
    "colab": {
      "name": "Assingment2.ipynb",
      "provenance": [],
      "collapsed_sections": [],
      "authorship_tag": "ABX9TyP6ApfPrhbYojZW2QEgewUi",
      "include_colab_link": true
    },
    "kernelspec": {
      "name": "python3",
      "display_name": "Python 3"
    }
  },
  "cells": [
    {
      "cell_type": "markdown",
      "metadata": {
        "id": "view-in-github",
        "colab_type": "text"
      },
      "source": [
        "<a href=\"https://colab.research.google.com/github/Sreenandh/Python-assingments/blob/main/Assingment2.ipynb\" target=\"_parent\"><img src=\"https://colab.research.google.com/assets/colab-badge.svg\" alt=\"Open In Colab\"/></a>"
      ]
    },
    {
      "cell_type": "code",
      "metadata": {
        "id": "xjrAhNS31p7E",
        "colab": {
          "base_uri": "https://localhost:8080/"
        },
        "outputId": "4d9f06da-d3e0-443d-e902-9f81320d8515"
      },
      "source": [
        "username = 'sreenandh'\n",
        "password = '1234'\n",
        "\n",
        "userPassword=input(\"Enter the password \")\n",
        "if userPassword== password :\n",
        "  print(\"welcome \"+username)\n",
        "  print(\"Hello\")\n",
        "else:\n",
        "  print(\"incorrect password\")\n"
      ],
      "execution_count": null,
      "outputs": [
        {
          "output_type": "stream",
          "text": [
            "Enter the password 1234\n",
            "welcome sreenandh\n",
            "Hello\n"
          ],
          "name": "stdout"
        }
      ]
    },
    {
      "cell_type": "code",
      "metadata": {
        "colab": {
          "base_uri": "https://localhost:8080/"
        },
        "id": "lwcHIQzK8ooB",
        "outputId": "44209f20-bd61-4924-cc83-8bc2e619d025"
      },
      "source": [
        "username = 'sreenandh'\n",
        "password = '1234'\n",
        "name=input(\"Enter the name \")\n",
        "userPassword = input(\"Enter the password \")\n",
        "if name==username :\n",
        "  if userPassword == password :\n",
        "    print(\"Welcome \"+username)\n",
        "  else:\n",
        "    print(\"Incorrect Password\")\n",
        "else:\n",
        "    print(\"This user is not in our database\")"
      ],
      "execution_count": null,
      "outputs": [
        {
          "output_type": "stream",
          "text": [
            "Enter the name sreenandh\n",
            "Enter the password 1234\n",
            "Welcome sreenandh\n"
          ],
          "name": "stdout"
        }
      ]
    },
    {
      "cell_type": "markdown",
      "metadata": {
        "id": "o3jgkm10V2Za"
      },
      "source": [
        "### ***HOMEWORK***"
      ]
    },
    {
      "cell_type": "markdown",
      "metadata": {
        "id": "5IBIx3k21OiQ"
      },
      "source": [
        "**1**]"
      ]
    },
    {
      "cell_type": "code",
      "metadata": {
        "colab": {
          "base_uri": "https://localhost:8080/"
        },
        "id": "WvP5AWCjWHB9",
        "outputId": "e7daa7a4-030d-4d1c-a0af-9acf50f75945"
      },
      "source": [
        "a=int(input(\"enter first number \"))\n",
        "b=int(input(\"enter second number \"))\n",
        "for a in range(a,b) :\n",
        "  if(a%2==0) :\n",
        "    print(a)"
      ],
      "execution_count": null,
      "outputs": [
        {
          "output_type": "stream",
          "text": [
            "enter first number 20\n",
            "enter second number 50\n",
            "20\n",
            "22\n",
            "24\n",
            "26\n",
            "28\n",
            "30\n",
            "32\n",
            "34\n",
            "36\n",
            "38\n",
            "40\n",
            "42\n",
            "44\n",
            "46\n",
            "48\n"
          ],
          "name": "stdout"
        }
      ]
    },
    {
      "cell_type": "markdown",
      "metadata": {
        "id": "sT-tAQdGuKnM"
      },
      "source": [
        "**2**]"
      ]
    },
    {
      "cell_type": "code",
      "metadata": {
        "colab": {
          "base_uri": "https://localhost:8080/",
          "height": 129
        },
        "id": "49nUOpatuPbv",
        "outputId": "ffae65d4-e724-4161-aa8a-3245d3a723f9"
      },
      "source": [
        "marks=int(input(\"Enter the mark\"))\n",
        "if marks > 90 :\n",
        "  print(\"passed with Distinction\")\n",
        "\n",
        "elif marks <60 :\n",
        "    print(\"Failed\")\n",
        "    elif 90 >marks> 60 :\n",
        "      print(\"passed\")\n"
      ],
      "execution_count": null,
      "outputs": [
        {
          "output_type": "error",
          "ename": "SyntaxError",
          "evalue": "ignored",
          "traceback": [
            "\u001b[0;36m  File \u001b[0;32m\"<ipython-input-3-c7c6cb1926bc>\"\u001b[0;36m, line \u001b[0;32m7\u001b[0m\n\u001b[0;31m    elif 90 >marks> 60 :\u001b[0m\n\u001b[0m       ^\u001b[0m\n\u001b[0;31mSyntaxError\u001b[0m\u001b[0;31m:\u001b[0m invalid syntax\n"
          ]
        }
      ]
    },
    {
      "cell_type": "code",
      "metadata": {
        "colab": {
          "base_uri": "https://localhost:8080/"
        },
        "id": "olIb03H7yRFE",
        "outputId": "63516da6-a6d3-4691-d4c5-18371e7aaf6d"
      },
      "source": [
        "username= 'Sreenandh'\n",
        "password= '12345'\n",
        "otp = '000'\n",
        "name= input(\"enter your name \")\n",
        "userpassword = input(\"enter the password \")\n",
        "userotp = input(\"enter the otp \")\n",
        "if name == username :\n",
        "  if userpassword == password:\n",
        "    if userotp == otp:\n",
        "      print(\"Welcome \"+username)\n",
        "    else :\n",
        "      print(\"incorrect otp\")\n",
        "  else :\n",
        "    print(\"incorerct password\")\n",
        "else : \n",
        "   print(\"the user not founded\")"
      ],
      "execution_count": null,
      "outputs": [
        {
          "output_type": "stream",
          "text": [
            "enter your name Sreenandh\n",
            "enter the password 12345\n",
            "enter the otp 000\n",
            "Welcome Sreenandh\n"
          ],
          "name": "stdout"
        }
      ]
    },
    {
      "cell_type": "markdown",
      "metadata": {
        "id": "Z2XZB9821qd0"
      },
      "source": [
        "**4]**"
      ]
    },
    {
      "cell_type": "code",
      "metadata": {
        "colab": {
          "base_uri": "https://localhost:8080/"
        },
        "id": "bL1A86B31uO-",
        "outputId": "5f79c9b4-ac50-4b50-83b9-26580ab2061c"
      },
      "source": [
        "studentMarks = {\"Stark\" : 95, \"paul\": 60, \"John\": 56, \"Steve\": 67, \"Raju\": 85 }\n",
        "for i in studentMarks :\n",
        "  if studentMarks[i]>60 :\n",
        "    print(i)"
      ],
      "execution_count": null,
      "outputs": [
        {
          "output_type": "stream",
          "text": [
            "Stark\n",
            "Steve\n",
            "Raju\n"
          ],
          "name": "stdout"
        }
      ]
    }
  ]
}